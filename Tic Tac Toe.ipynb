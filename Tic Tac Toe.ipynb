{
 "cells": [
  {
   "cell_type": "code",
   "execution_count": 1,
   "id": "c87ed569",
   "metadata": {},
   "outputs": [],
   "source": [
    "import numpy as np\n",
    "import matplotlib.pyplot as plt"
   ]
  },
  {
   "cell_type": "code",
   "execution_count": 2,
   "id": "b53d99e1",
   "metadata": {},
   "outputs": [],
   "source": []
  },
  {
   "cell_type": "code",
   "execution_count": 3,
   "id": "1efa2140",
   "metadata": {},
   "outputs": [],
   "source": [
    "class Env:\n",
    "    def __init__(self, length, width):\n",
    "        self.board = np.zeros((width, length))\n",
    "        \n",
    "    def victory_condition(self):\n",
    "        \n",
    "    def step(self, action):\n",
    "        if action:\n",
    "            x,y = action.position\n",
    "            self.board[x,y] = action.actor.sign\n",
    "    \n",
    "    def __repr__(self):\n",
    "        return str(self.board)"
   ]
  },
  {
   "cell_type": "code",
   "execution_count": 4,
   "id": "da35129a",
   "metadata": {},
   "outputs": [],
   "source": [
    "class Agent:    \n",
    "    def __init__(self, name, sign):\n",
    "        self.name = name\n",
    "        self.sign = sign\n",
    "        \n",
    "    def move(self, board):\n",
    "        for w in range(board.shape[0]):\n",
    "            for l in range(board.shape[1]):\n",
    "                if board[w][l] == 0:\n",
    "                    return Action(self, (w,l))\n",
    "        \n",
    "    def __repr__(self):\n",
    "        return self.name"
   ]
  },
  {
   "cell_type": "code",
   "execution_count": 5,
   "id": "3e44ac05",
   "metadata": {},
   "outputs": [],
   "source": [
    "agent_1 = Agent(\"Bob\", 1)\n",
    "agent_2 = Agent(\"Milo\", -1)\n",
    "\n",
    "env = Env(3,3)"
   ]
  },
  {
   "cell_type": "code",
   "execution_count": 6,
   "id": "6d66855e",
   "metadata": {},
   "outputs": [
    {
     "name": "stdout",
     "output_type": "stream",
     "text": [
      "[[0. 0. 0.]\n",
      " [0. 0. 0.]\n",
      " [0. 0. 0.]]\n"
     ]
    }
   ],
   "source": [
    "print(env)"
   ]
  },
  {
   "cell_type": "code",
   "execution_count": 7,
   "id": "dc1f9268",
   "metadata": {},
   "outputs": [
    {
     "name": "stdout",
     "output_type": "stream",
     "text": [
      "[[ 1. -1.  0.]\n",
      " [ 0.  0.  0.]\n",
      " [ 0.  0.  0.]]\n",
      "[[ 1. -1.  1.]\n",
      " [-1.  0.  0.]\n",
      " [ 0.  0.  0.]]\n",
      "[[ 1. -1.  1.]\n",
      " [-1.  1. -1.]\n",
      " [ 0.  0.  0.]]\n",
      "[[ 1. -1.  1.]\n",
      " [-1.  1. -1.]\n",
      " [ 1. -1.  0.]]\n",
      "[[ 1. -1.  1.]\n",
      " [-1.  1. -1.]\n",
      " [ 1. -1.  1.]]\n"
     ]
    }
   ],
   "source": [
    "for i in range(5):\n",
    "    action1 = agent_1.move(env.board)\n",
    "    env.step(action1)\n",
    "\n",
    "    action2 = agent_2.move(env.board)\n",
    "    env.step(action2)\n",
    "    print(env)"
   ]
  }
 ],
 "metadata": {
  "kernelspec": {
   "display_name": "Python 3",
   "language": "python",
   "name": "python3"
  },
  "language_info": {
   "codemirror_mode": {
    "name": "ipython",
    "version": 3
   },
   "file_extension": ".py",
   "mimetype": "text/x-python",
   "name": "python",
   "nbconvert_exporter": "python",
   "pygments_lexer": "ipython3",
   "version": "3.9.1"
  }
 },
 "nbformat": 4,
 "nbformat_minor": 5
}
