{
 "cells": [
  {
   "cell_type": "code",
   "execution_count": 1,
   "id": "e5930dd0",
   "metadata": {},
   "outputs": [],
   "source": [
    "import numpy as np\n",
    "import matplotlib.pyplot as plt"
   ]
  },
  {
   "cell_type": "code",
   "execution_count": 2,
   "id": "a26cfd5c",
   "metadata": {},
   "outputs": [],
   "source": [
    "class Agent:\n",
    "    def __init__(self, bandits, iters):\n",
    "        self.iters = iters\n",
    "        self.bandits = bandits\n",
    "        self.tallies = np.zeros((3,iters))\n",
    "        \n",
    "    def train(self):\n",
    "        for i in range(iters):\n",
    "            for b in range(len(bandits)):\n",
    "                choice, reward = next(self.bandits[b])\n",
    "                average_reward = self.bandits[b].acc_reward/(i+1)\n",
    "                self.tallies[b][i] = average_reward"
   ]
  },
  {
   "cell_type": "code",
   "execution_count": 3,
   "id": "6ffde045",
   "metadata": {},
   "outputs": [],
   "source": [
    "class Bandit:\n",
    "    def __init__(self, n, e, arms=None):\n",
    "        self.n = n\n",
    "        self.e = e\n",
    "        \n",
    "        self.arms = arms if type(arms) != None else np.random.normal(0, 1, n)\n",
    "        self.knowledge = np.full(n, 1)\n",
    "        \n",
    "        self.acc_reward = 0\n",
    "        \n",
    "        \n",
    "    def __next__(self):\n",
    "        is_random = np.random.choice(2, 1, p=[1-self.e, self.e])\n",
    "        if is_random:\n",
    "            choice = np.random.randint(0,self.n)\n",
    "            self.knowledge[choice] = self.arms[choice]\n",
    "        else:                             \n",
    "            choice = np.argmax(self.knowledge)\n",
    "            self.knowledge[choice] = self.arms[choice]\n",
    "            \n",
    "        self.acc_reward += self.arms[choice]\n",
    "        return choice, self.arms[choice]"
   ]
  },
  {
   "cell_type": "code",
   "execution_count": 4,
   "id": "099b63e8",
   "metadata": {},
   "outputs": [
    {
     "data": {
      "image/png": "[encoded data removed]",
      "text/plain": [
       "<Figure size 432x288 with 3 Axes>"
      ]
     },
     "metadata": {
      "needs_background": "light"
     },
     "output_type": "display_data"
    },
    {
     "data": {
      "image/png": "[encoded data removed]",
      "text/plain": [
       "<Figure size 432x288 with 1 Axes>"
      ]
     },
     "metadata": {
      "needs_background": "light"
     },
     "output_type": "display_data"
    }
   ],
   "source": [
    "#%matplotlib notebook\n",
    "\n",
    "total_reward = 0\n",
    "iters = 2000\n",
    "num_arms = 20\n",
    "\n",
    "\n",
    "arms = np.random.normal(0, 1, num_arms)\n",
    "bandit1 = Bandit(num_arms, 0.001, arms)\n",
    "bandit2 = Bandit(num_arms, 0.01, arms)\n",
    "bandit3 = Bandit(num_arms, 0.1, arms)\n",
    "\n",
    "figure, axis = plt.subplots(1, 3)\n",
    "axis[0].bar(range(bandit1.n),bandit1.arms, color=\"blue\")\n",
    "axis[1].bar(range(bandit2.n),bandit2.arms, color=\"orange\")\n",
    "axis[2].bar(range(bandit3.n),bandit3.arms, color=\"red\")\n",
    "plt.show()\n",
    "\n",
    "\n",
    "bandits = [bandit1, bandit2, bandit3]\n",
    "agent = Agent(bandits, iters)\n",
    "agent.train()\n",
    "\n",
    "#plt.ylim(0,max(tallies[2]))\n",
    "plt.plot(agent.tallies[0], color = \"blue\")\n",
    "plt.plot(agent.tallies[1], color = \"orange\")\n",
    "plt.plot(agent.tallies[2], color = \"red\")\n",
    "plt.show()\n"
   ]
  }
 ],
 "metadata": {
  "kernelspec": {
   "display_name": "Python 3",
   "language": "python",
   "name": "python3"
  },
  "language_info": {
   "codemirror_mode": {
    "name": "ipython",
    "version": 3
   },
   "file_extension": ".py",
   "mimetype": "text/x-python",
   "name": "python",
   "nbconvert_exporter": "python",
   "pygments_lexer": "ipython3",
   "version": "3.9.1"
  }
 },
 "nbformat": 4,
 "nbformat_minor": 5
}
