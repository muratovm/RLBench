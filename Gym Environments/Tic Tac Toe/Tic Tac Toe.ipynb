{
 "cells": [
  {
   "cell_type": "code",
   "execution_count": 1,
   "id": "9a3f0282",
   "metadata": {},
   "outputs": [],
   "source": [
    "import gym\n",
    "import gym_tictactoe"
   ]
  },
  {
   "cell_type": "code",
   "execution_count": 2,
   "id": "67959db6",
   "metadata": {},
   "outputs": [],
   "source": [
    "class Agent:\n",
    "    def __init__(self, name, sign):\n",
    "        self.name = name\n",
    "        self.sign = sign\n",
    "        \n",
    "    def possible_moves(self,board):\n",
    "        options = []\n",
    "        for y in range(board.shape[0]):\n",
    "            for x in range(board.shape[1]):\n",
    "                if board[y][x] == 0:\n",
    "                    options.append((x,y))\n",
    "        return options\n",
    "        \n",
    "    def choose(self, board):\n",
    "        options = self.possible_moves(board)\n",
    "        return options[0]"
   ]
  },
  {
   "cell_type": "code",
   "execution_count": 3,
   "id": "37956258",
   "metadata": {},
   "outputs": [],
   "source": [
    "import random\n",
    "class RandomAgent(Agent):\n",
    "    \n",
    "    def __init__(self, name, sign):\n",
    "        super().__init__(name, sign)\n",
    "        \n",
    "    def choose(self, board):\n",
    "        options = self.possible_moves(board)\n",
    "        choice = random.choice(options)\n",
    "        return choice\n",
    "    "
   ]
  },
  {
   "cell_type": "code",
   "execution_count": 4,
   "id": "1a12ca6c",
   "metadata": {},
   "outputs": [],
   "source": [
    "env = gym.make('tictactoe-v0', dim=3)"
   ]
  },
  {
   "cell_type": "code",
   "execution_count": 5,
   "id": "c26e3827",
   "metadata": {},
   "outputs": [],
   "source": [
    "agents = []\n",
    "agents.append(RandomAgent(\"Bob\", \"O\"))\n",
    "agents.append(RandomAgent(\"Milo\", \"X\"))\n",
    "\n",
    "for agent in agents:\n",
    "    env.register_agent(agent)"
   ]
  },
  {
   "cell_type": "code",
   "execution_count": 6,
   "id": "501bd645",
   "metadata": {},
   "outputs": [
    {
     "name": "stdout",
     "output_type": "stream",
     "text": [
      "---\n",
      "---\n",
      "--O\n",
      "===\n",
      "---\n",
      "-X-\n",
      "--O\n",
      "===\n",
      "---\n",
      "OX-\n",
      "--O\n",
      "===\n",
      "-X-\n",
      "OX-\n",
      "--O\n",
      "===\n",
      "-X-\n",
      "OX-\n",
      "O-O\n",
      "===\n",
      "-X-\n",
      "OXX\n",
      "O-O\n",
      "===\n",
      "OX-\n",
      "OXX\n",
      "O-O\n",
      "===\n",
      "---------------------\n",
      "Bob won!\n",
      "---------------------\n"
     ]
    }
   ],
   "source": [
    "#while not env.winner:\n",
    "env.reset()\n",
    "done = False\n",
    "while not done:\n",
    "    for agent in agents:\n",
    "        pos = agent.choose(env.board)\n",
    "        action = [pos, agent]\n",
    "        done = env.step(action)\n",
    "        env.render()\n",
    "        print(\"=\"*env.dim)\n",
    "        if done: break\n",
    "\n",
    "\n",
    "if env.winner == None:\n",
    "    print(\"---------------------\")\n",
    "    print(\"No one won!\")\n",
    "    print(\"---------------------\")\n",
    "\n",
    "else:\n",
    "    print(\"---------------------\")\n",
    "    print(agent.name+\" won!\")\n",
    "    print(\"---------------------\")\n"
   ]
  }
 ],
 "metadata": {
  "kernelspec": {
   "display_name": "Python 3",
   "language": "python",
   "name": "python3"
  },
  "language_info": {
   "codemirror_mode": {
    "name": "ipython",
    "version": 3
   },
   "file_extension": ".py",
   "mimetype": "text/x-python",
   "name": "python",
   "nbconvert_exporter": "python",
   "pygments_lexer": "ipython3",
   "version": "3.9.1"
  }
 },
 "nbformat": 4,
 "nbformat_minor": 5
}
