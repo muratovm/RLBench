{
 "cells": [
  {
   "cell_type": "code",
   "execution_count": 1,
   "id": "6c9125a2",
   "metadata": {},
   "outputs": [],
   "source": [
    "import numpy as np\n",
    "\n",
    "import gym\n",
    "import gym_tictactoe\n",
    "\n",
    "from agents.SearchAgent import RandomAgent\n",
    "from agents.SearchAgent import UserAgent\n",
    "from agents.SearchAgent import MinimaxAgent"
   ]
  },
  {
   "cell_type": "code",
   "execution_count": 2,
   "id": "263a2bb8",
   "metadata": {},
   "outputs": [],
   "source": [
    "agents = []\n",
    "agents.append(UserAgent(\"Michael\", \"X\"))\n",
    "agents.append(MinimaxAgent(\"Bot\", \"O\", 9))"
   ]
  },
  {
   "cell_type": "code",
   "execution_count": 3,
   "id": "a49d4fe7",
   "metadata": {},
   "outputs": [],
   "source": [
    "env = gym.make('tictactoe-v0', dim=3)\n",
    "\n",
    "for agent in agents:\n",
    "    env.register_agent(agent)\n",
    "    \n",
    "agents[1].assign_env(env)\n",
    "agents[1].assign_opsign(agents[0].sign)"
   ]
  },
  {
   "cell_type": "code",
   "execution_count": 4,
   "id": "f4909110",
   "metadata": {},
   "outputs": [
    {
     "name": "stdout",
     "output_type": "stream",
     "text": [
      "1\n"
     ]
    }
   ],
   "source": [
    "board = np.array([[1,2,2],[2,1,1],[1,2,2]])\n",
    "board = np.array([[1,2,2],[1,1,1],[1,2,2]])\n",
    "reward = env.state_reward(board)\n",
    "print(reward)"
   ]
  },
  {
   "cell_type": "code",
   "execution_count": 5,
   "id": "e2c9a82c",
   "metadata": {},
   "outputs": [
    {
     "name": "stdout",
     "output_type": "stream",
     "text": [
      "---\n",
      "---\n",
      "---\n",
      "Choose a location in the form (x,y):(1,1)\n",
      "(1, 1)\n",
      "[[0. 0. 0.]\n",
      " [0. 1. 0.]\n",
      " [0. 0. 0.]]\n",
      "---\n",
      "-X-\n",
      "---\n",
      "=====\n",
      "(0, 0)\n",
      "[[2. 0. 0.]\n",
      " [0. 1. 0.]\n",
      " [0. 0. 0.]]\n",
      "O--\n",
      "-X-\n",
      "---\n",
      "=====\n",
      "Choose a location in the form (x,y):(2,0)\n",
      "(2, 0)\n",
      "[[2. 0. 1.]\n",
      " [0. 1. 0.]\n",
      " [0. 0. 0.]]\n",
      "O-X\n",
      "-X-\n",
      "---\n",
      "=====\n",
      "(0, 2)\n",
      "[[2. 0. 1.]\n",
      " [0. 1. 0.]\n",
      " [2. 0. 0.]]\n",
      "O-X\n",
      "-X-\n",
      "O--\n",
      "=====\n",
      "Choose a location in the form (x,y):(0,1)\n",
      "(0, 1)\n",
      "[[2. 0. 1.]\n",
      " [1. 1. 0.]\n",
      " [2. 0. 0.]]\n",
      "O-X\n",
      "XX-\n",
      "O--\n",
      "=====\n",
      "(2, 1)\n",
      "[[2. 0. 1.]\n",
      " [1. 1. 2.]\n",
      " [2. 0. 0.]]\n",
      "O-X\n",
      "XXO\n",
      "O--\n",
      "=====\n",
      "Choose a location in the form (x,y):(1,0)\n",
      "(1, 0)\n",
      "[[2. 1. 1.]\n",
      " [1. 1. 2.]\n",
      " [2. 0. 0.]]\n",
      "OXX\n",
      "XXO\n",
      "O--\n",
      "=====\n",
      "(1, 2)\n",
      "[[2. 1. 1.]\n",
      " [1. 1. 2.]\n",
      " [2. 2. 0.]]\n",
      "OXX\n",
      "XXO\n",
      "OO-\n",
      "=====\n",
      "Choose a location in the form (x,y):(2,2)\n",
      "(2, 2)\n",
      "[[2. 1. 1.]\n",
      " [1. 1. 2.]\n",
      " [2. 2. 1.]]\n",
      "OXX\n",
      "XXO\n",
      "OOX\n",
      "=====\n",
      "None won!\n"
     ]
    }
   ],
   "source": [
    "env.render()\n",
    "done = False\n",
    "while not done:\n",
    "    for agent in agents:\n",
    "        pos = agent.choose(env.board)\n",
    "        print(pos)\n",
    "        action = [pos, agent]\n",
    "        reward, done = env.step(action)\n",
    "        print(env.board)\n",
    "        env.render()\n",
    "        print(\"=\"*5)\n",
    "        if done: break\n",
    "        \n",
    "print(\"{} won!\".format(env.winner))\n",
    "env.reset()"
   ]
  }
 ],
 "metadata": {
  "kernelspec": {
   "display_name": "Python 3",
   "language": "python",
   "name": "python3"
  },
  "language_info": {
   "codemirror_mode": {
    "name": "ipython",
    "version": 3
   },
   "file_extension": ".py",
   "mimetype": "text/x-python",
   "name": "python",
   "nbconvert_exporter": "python",
   "pygments_lexer": "ipython3",
   "version": "3.9.1"
  }
 },
 "nbformat": 4,
 "nbformat_minor": 5
}
