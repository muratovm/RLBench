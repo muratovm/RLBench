{
 "cells": [
  {
   "cell_type": "code",
   "execution_count": 1,
   "id": "f68fa1c8",
   "metadata": {},
   "outputs": [],
   "source": [
    "import numpy as np\n",
    "\n",
    "import gym\n",
    "import gym_tictactoe\n",
    "\n",
    "from agents.SearchAgent import RandomAgent\n",
    "from agents.SearchAgent import UserAgent"
   ]
  },
  {
   "cell_type": "code",
   "execution_count": 2,
   "id": "bbf60d42",
   "metadata": {},
   "outputs": [],
   "source": [
    "agents = []\n",
    "agents.append(RandomAgent(\"Bot\", \"O\"))\n",
    "agents.append(UserAgent(\"Michael\", \"X\"))"
   ]
  },
  {
   "cell_type": "code",
   "execution_count": 3,
   "id": "d95cf39f",
   "metadata": {},
   "outputs": [],
   "source": [
    "env = gym.make('tictactoe-v0', dim=3)\n",
    "\n",
    "for agent in agents:\n",
    "    env.register_agent(agent)"
   ]
  },
  {
   "cell_type": "code",
   "execution_count": 5,
   "id": "14881233",
   "metadata": {},
   "outputs": [
    {
     "name": "stdout",
     "output_type": "stream",
     "text": [
      "0\n"
     ]
    }
   ],
   "source": [
    "\n",
    "board = np.array([[1,1,1],[1,0,1],[0,0,0]])\n",
    "reward = env.state_reward(board)\n",
    "print(reward)\n"
   ]
  },
  {
   "cell_type": "code",
   "execution_count": null,
   "id": "421c52bb",
   "metadata": {},
   "outputs": [],
   "source": [
    "\n",
    "done = False\n",
    "while not done:\n",
    "    for agent in agents:\n",
    "        pos = agent.choose(env.board)\n",
    "        action = [pos, agent]\n",
    "        reward, done = env.step(action)\n",
    "        print(env.board)\n",
    "        env.render()\n",
    "        print(\"=\"*5)\n",
    "        \n",
    "print(\"{} won!\".format(env.winner))\n",
    "env.reset()"
   ]
  },
  {
   "cell_type": "code",
   "execution_count": null,
   "id": "72073c73",
   "metadata": {},
   "outputs": [],
   "source": []
  }
 ],
 "metadata": {
  "kernelspec": {
   "display_name": "Python 3",
   "language": "python",
   "name": "python3"
  },
  "language_info": {
   "codemirror_mode": {
    "name": "ipython",
    "version": 3
   },
   "file_extension": ".py",
   "mimetype": "text/x-python",
   "name": "python",
   "nbconvert_exporter": "python",
   "pygments_lexer": "ipython3",
   "version": "3.9.1"
  }
 },
 "nbformat": 4,
 "nbformat_minor": 5
}
