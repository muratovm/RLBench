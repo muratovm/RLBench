{
 "cells": [
  {
   "cell_type": "code",
   "execution_count": 1,
   "id": "ce0ace16",
   "metadata": {},
   "outputs": [],
   "source": [
    "import numpy as np"
   ]
  },
  {
   "cell_type": "code",
   "execution_count": 2,
   "id": "645ea569",
   "metadata": {},
   "outputs": [],
   "source": [
    "class State:\n",
    "    def __init__(self, name=\"default\", reward = 0):\n",
    "        self.name = name\n",
    "        self.reward = reward\n",
    "        self.value = 0\n",
    "        self.neighbors = []\n",
    "        self.p_transitions = []\n",
    "        \n",
    "    def next_state(self):\n",
    "        p_transitions = np.array(self.p_transitions)\n",
    "        total = np.sum(p_transitions)\n",
    "        p_transitions /= total\n",
    "        choice = np.random.choice(self.neighbors,1,p=p_transitions)[0]\n",
    "        \n",
    "        index = self.neighbors.index(choice)\n",
    "        prob = self.p_transitions[index]\n",
    "        \n",
    "        return choice, prob\n",
    "        \n",
    "    def add_neighbor(self, neighbor, probablility):\n",
    "        self.neighbors.append(neighbor)\n",
    "        self.p_transitions.append(probablility)\n",
    "        \n",
    "    def __eq__(self, other):\n",
    "        return self.name == other.name\n",
    "        \n",
    "    def __repr__(self):\n",
    "        return str([self.name, str(self.value)])\n",
    "\n",
    "class StateMachine:\n",
    "    def __init__(self):\n",
    "        self.current_name = None\n",
    "        self.states = {}\n",
    "        self.gamma = 0.6\n",
    "        \n",
    "    def step(self):\n",
    "        \n",
    "        #next state\n",
    "        new_name,prob = self.states[self.current_name].next_state()\n",
    "        \n",
    "        value_choice = prob * (self.states[new_name].reward + self.gamma * self.states[new_name].value)\n",
    "        value_other = (1-prob) * ( self.gamma * self.states[self.current_name].value)\n",
    "        \n",
    "        #update current state\n",
    "        self.states[self.current_name].value = (value_choice + value_other)\n",
    "        \n",
    "        \n",
    "        \"\"\"\n",
    "        #surroundings\n",
    "        current_value = 0 \n",
    "        for i in range(len(self.states[self.current_name].neighbors)):\n",
    "            neighbor = self.states[self.current_name].neighbors[i]\n",
    "            prob = self.states[self.current_name].p_transitions[i]\n",
    "            value = self.states[neighbor].value\n",
    "            reward = self.states[neighbor].reward\n",
    "            current_value += prob*(reward + (self.gamma*value))\n",
    "            \n",
    "            \n",
    "        self.states[self.current_name].value = current_value\n",
    "        new_name = self.states[this.current_name].next_state()\n",
    "        self.current_name = self.states[new_name].name\n",
    "        \"\"\"\n",
    "        \n",
    "        self.current_name = self.states[new_name].name\n",
    "        return self.states[self.current_name]\n",
    "        \n",
    "    def set_start(self,name):\n",
    "        self.current_name = name\n",
    "        \n",
    "    def add_states(self, *states):\n",
    "        for state in states:\n",
    "            self.states[state.name] = state"
   ]
  },
  {
   "cell_type": "code",
   "execution_count": 3,
   "id": "42142cfe",
   "metadata": {},
   "outputs": [],
   "source": [
    "s1,s2,s3,s4,s5,s6,s7 = State(\"1\",1), State(\"2\"), State(\"3\"), State(\"4\"), State(\"5\"), State(\"6\"), State(\"7\",10)"
   ]
  },
  {
   "cell_type": "code",
   "execution_count": 4,
   "id": "aaff8018",
   "metadata": {},
   "outputs": [],
   "source": [
    "s1.add_neighbor(s1.name, 0.6)\n",
    "s1.add_neighbor(s2.name, 0.4)\n",
    "\n",
    "s2.add_neighbor(s1.name, 0.4)\n",
    "s2.add_neighbor(s2.name, 0.2)\n",
    "s2.add_neighbor(s3.name, 0.4)\n",
    "\n",
    "s3.add_neighbor(s2.name, 0.4)\n",
    "s3.add_neighbor(s3.name, 0.2)\n",
    "s3.add_neighbor(s4.name, 0.4)\n",
    "\n",
    "s4.add_neighbor(s3.name, 0.4)\n",
    "s4.add_neighbor(s4.name, 0.2)\n",
    "s4.add_neighbor(s5.name, 0.4)\n",
    "\n",
    "s5.add_neighbor(s4.name, 0.4)\n",
    "s5.add_neighbor(s5.name, 0.2)\n",
    "s5.add_neighbor(s6.name, 0.4)\n",
    "        \n",
    "s6.add_neighbor(s5.name, 0.4)\n",
    "s6.add_neighbor(s6.name, 0.2)\n",
    "s6.add_neighbor(s7.name, 0.4)\n",
    "\n",
    "s7.add_neighbor(s6.name, 0.4)\n",
    "s7.add_neighbor(s7.name, 0.6)\n",
    "\n",
    "machine = StateMachine()\n",
    "machine.add_states(s1,s2,s3,s4,s5,s6,s7)\n",
    "machine.set_start(s4.name)"
   ]
  },
  {
   "cell_type": "code",
   "execution_count": 5,
   "id": "6aee1aa5",
   "metadata": {},
   "outputs": [
    {
     "name": "stdout",
     "output_type": "stream",
     "text": [
      "[1530, 1528, 1499, 1399, 1405, 1363, 1276]\n",
      "1 0.3079117098015186\n",
      "0 0.7597172747824454\n",
      "0 0.01461148181457397\n",
      "0 0.002756947763189201\n",
      "0 0.012788290562612934\n",
      "0 1.5287699461736646\n",
      "10 3.2991877674897445\n"
     ]
    }
   ],
   "source": [
    "machine.set_start(s4.name)\n",
    "count = [0,0,0,0,0,0,0]\n",
    "\n",
    "for i in range(10000):\n",
    "    state = machine.step()\n",
    "    index = int(state.name)\n",
    "    count[index-1] += 1\n",
    "    \n",
    "print(count)\n",
    "for state in machine.states.values():\n",
    "    print(state.reward, state.value)"
   ]
  },
  {
   "cell_type": "code",
   "execution_count": null,
   "id": "280886c6",
   "metadata": {},
   "outputs": [],
   "source": []
  }
 ],
 "metadata": {
  "kernelspec": {
   "display_name": "Python 3",
   "language": "python",
   "name": "python3"
  },
  "language_info": {
   "codemirror_mode": {
    "name": "ipython",
    "version": 3
   },
   "file_extension": ".py",
   "mimetype": "text/x-python",
   "name": "python",
   "nbconvert_exporter": "python",
   "pygments_lexer": "ipython3",
   "version": "3.9.1"
  }
 },
 "nbformat": 4,
 "nbformat_minor": 5
}
