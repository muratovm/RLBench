{
 "cells": [
  {
   "cell_type": "code",
   "execution_count": 1,
   "id": "b1a76863",
   "metadata": {},
   "outputs": [],
   "source": [
    "import torch\n",
    "from torch import nn, optim\n",
    "import torch.nn.functional as F\n",
    "import time\n",
    "\n",
    "\n",
    "import matplotlib.pyplot as plt\n",
    "import numpy as np\n",
    "\n",
    "\n",
    "import random\n",
    "from random import sample\n",
    "\n",
    "import gym\n",
    "import gym_omnipath\n",
    "\n",
    "def softmax(x):\n",
    "    f_x = np.exp(x) / np.sum(np.exp(x))\n",
    "    return f_x"
   ]
  },
  {
   "cell_type": "markdown",
   "id": "9dae4206",
   "metadata": {},
   "source": [
    "### Controllable Environment\n",
    "\n",
    "```\n",
    "try:\n",
    "    env = gym.make('omnipath-v0')\n",
    "    env.controllable()\n",
    "    while True:\n",
    "        action = env.action_space.sample()\n",
    "        state, reward, done, info = env.step(action)\n",
    "        env.render()\n",
    "except KeyboardInterrupt:\n",
    "        env.close()\n",
    "        print('Environment Closed')\n",
    "```"
   ]
  },
  {
   "cell_type": "code",
   "execution_count": 2,
   "id": "58370e55",
   "metadata": {},
   "outputs": [
    {
     "name": "stdout",
     "output_type": "stream",
     "text": [
      "Environment Mapped\n"
     ]
    }
   ],
   "source": [
    "try:\n",
    "    env = gym.make('omnipath-v0')\n",
    "    for i in range(env.board.screen_size-1,-1,-1):\n",
    "        for j in range(env.board.screen_size):\n",
    "            env.agent.set_state(np.array([j,i]))\n",
    "            env.update_values(env.agent.state)\n",
    "    print('Environment Mapped')\n",
    "except KeyboardInterrupt:\n",
    "    env.close()\n",
    "    print('Environment Closed')"
   ]
  },
  {
   "cell_type": "code",
   "execution_count": 3,
   "id": "b119c694",
   "metadata": {},
   "outputs": [
    {
     "name": "stdout",
     "output_type": "stream",
     "text": [
      "Environment Mapped\n"
     ]
    }
   ],
   "source": [
    "import random\n",
    "try:\n",
    "    env = gym.make('omnipath-v0')\n",
    "    for i in range(100000):\n",
    "        choice = random.uniform(0, 1)\n",
    "        if choice > 0.1:\n",
    "            best = 0\n",
    "            best_choice = None\n",
    "            for state in env.board.available_locations(env.agent.state):\n",
    "                x,y = state\n",
    "                state_reward = env.values[y][x][0]\n",
    "                if state_reward >= best:\n",
    "                    best = state_reward\n",
    "                    best_choice = state\n",
    "                action = env.agent.new_state_action(best_choice)\n",
    "            state, reward, done, info = env.step(action)\n",
    "            env.update_values(env.agent.state)\n",
    "        else:\n",
    "            states = env.board.available_locations(env.agent.state)\n",
    "            index = random.randint(0,len(states)-1)\n",
    "            random_choice = states[index]\n",
    "            action = env.agent.new_state_action(random_choice)\n",
    "            state, reward, done, info = env.step(action)\n",
    "            if done:\n",
    "                break\n",
    "            env.update_values(env.agent.state)\n",
    "            \n",
    "    print('Environment Mapped')\n",
    "except KeyboardInterrupt:\n",
    "    env.close()\n",
    "    print('Environment Closed')"
   ]
  },
  {
   "cell_type": "code",
   "execution_count": 4,
   "id": "6ecf1db2",
   "metadata": {},
   "outputs": [
    {
     "name": "stdout",
     "output_type": "stream",
     "text": [
      "(27.0, 3.0)\n"
     ]
    },
    {
     "data": {
      "image/png": "[encoded data removed]",
      "text/plain": [
       "<Figure size 432x288 with 1 Axes>"
      ]
     },
     "metadata": {
      "needs_background": "light"
     },
     "output_type": "display_data"
    }
   ],
   "source": [
    "%matplotlib inline\n",
    "\n",
    "print(env.board.goal)\n",
    "plt.imshow(env.values[:,:,0], cmap='hot')\n",
    "plt.show()"
   ]
  },
  {
   "cell_type": "code",
   "execution_count": 24,
   "id": "bb59a135",
   "metadata": {},
   "outputs": [],
   "source": [
    "temp_goal = env.board.goal\n",
    "temp_values = env.values"
   ]
  },
  {
   "cell_type": "code",
   "execution_count": 25,
   "id": "70a4aa44",
   "metadata": {},
   "outputs": [
    {
     "ename": "SystemExit",
     "evalue": "0",
     "output_type": "error",
     "traceback": [
      "An exception has occurred, use %tb to see the full traceback.\n",
      "\u001b[0;31mSystemExit\u001b[0m\u001b[0;31m:\u001b[0m 0\n"
     ]
    }
   ],
   "source": [
    "env = gym.make('omnipath-v0')\n",
    "env.board.set_goal(temp_goal)\n",
    "env.values = temp_values\n",
    "env.agent.reset()\n",
    "env.done = False\n",
    "done = False\n",
    "try:\n",
    "    while not done:\n",
    "\n",
    "        decision = random.uniform(0, 1)\n",
    "\n",
    "        if decision < 0:\n",
    "            action = env.action_space.sample()\n",
    "        else:\n",
    "            best = 0\n",
    "            best_choice = None\n",
    "            \n",
    "            for state in env.board.available_locations(env.agent.state):\n",
    "                x,y = state\n",
    "                state_reward = env.values[y][x][0]\n",
    "                #reward = env.board.state_reward(state)\n",
    "                if state_reward >= best:\n",
    "                    best = state_reward\n",
    "                    best_choice = state\n",
    "            action = env.agent.new_state_action(best_choice)\n",
    "            \n",
    "        state, reward, done, info = env.step(action)\n",
    "        \n",
    "        time.sleep(0.1)\n",
    "        env.render()\n",
    "\n",
    "    env.close()\n",
    "    print(\"Goal Reached\")\n",
    "except KeyboardInterrupt:\n",
    "        env.close()\n",
    "        print('Environment Closed')"
   ]
  }
 ],
 "metadata": {
  "kernelspec": {
   "display_name": "Python 3",
   "language": "python",
   "name": "python3"
  },
  "language_info": {
   "codemirror_mode": {
    "name": "ipython",
    "version": 3
   },
   "file_extension": ".py",
   "mimetype": "text/x-python",
   "name": "python",
   "nbconvert_exporter": "python",
   "pygments_lexer": "ipython3",
   "version": "3.9.1"
  }
 },
 "nbformat": 4,
 "nbformat_minor": 5
}
